{
 "cells": [
  {
   "cell_type": "code",
   "execution_count": 9,
   "metadata": {},
   "outputs": [
    {
     "name": "stdout",
     "output_type": "stream",
     "text": [
      "Name: Lloyd\n",
      "Homework: [90.0, 97.0, 75.0, 92.0]\n",
      "Quizzes: [88.0, 40.0, 94.0]\n",
      "Tests: [75.0, 90.0]\n",
      "Name: Alice\n",
      "Homework: [100.0, 92.0, 98.0, 100.0]\n",
      "Quizzes: [82.0, 83.0, 91.0]\n",
      "Tests: [89.0, 97.0]\n",
      "Name: Tyler\n",
      "Homework: [0.0, 87.0, 75.0, 22.0]\n",
      "Quizzes: [0.0, 75.0, 78.0]\n",
      "Tests: [100.0, 100.0]\n",
      "Class Average: 83.87\n",
      "Class Grade: B\n"
     ]
    }
   ],
   "source": [
    "lloyd = {\n",
    "    \"name\": \"Lloyd\",\n",
    "    \"homework\": [90.0,97.0,75.0,92.0],\n",
    "    \"quizzes\": [88.0,40.0,94.0],\n",
    "    \"tests\": [75.0,90.0]\n",
    "}\n",
    "\n",
    "alice = {\n",
    "    \"name\": \"Alice\",\n",
    "    \"homework\": [100.0, 92.0, 98.0, 100.0],\n",
    "    \"quizzes\": [82.0, 83.0, 91.0],\n",
    "    \"tests\": [89.0, 97.0]\n",
    "}\n",
    "\n",
    "tyler = {\n",
    "    \"name\": \"Tyler\",\n",
    "    \"homework\": [0.0, 87.0, 75.0, 22.0],\n",
    "    \"quizzes\": [0.0, 75.0, 78.0],\n",
    "    \"tests\": [100.0, 100.0]\n",
    "}\n",
    "\n",
    "students = [lloyd, alice, tyler]\n",
    "\n",
    "for student_name in students:\n",
    "    print(\"Name:\",student_name[\"name\"])\n",
    "    print(\"Homework:\",student_name[\"homework\"])\n",
    "    print(\"Quizzes:\",student_name[\"quizzes\"])\n",
    "    print(\"Tests:\",student_name[\"tests\"])\n",
    "\n",
    "def average(nums):\n",
    "    total = float(sum(nums))\n",
    "    res = total / len(nums)\n",
    "    return res\n",
    "\n",
    "def get_average(student):\n",
    "    homework = average(student[\"homework\"])\n",
    "    quizzes = average(student[\"quizzes\"])\n",
    "    tests = average(student[\"tests\"])\n",
    "    homework = homework * 0.1\n",
    "    quizzes = quizzes * 0.3\n",
    "    tests = tests * 0.6\n",
    "    final = homework + quizzes + tests\n",
    "    return final\n",
    "\n",
    "def get_letter_grade(score):\n",
    "    if int(score) >= 90:\n",
    "        return \"A\"\n",
    "    elif int(score) >= 80:\n",
    "        return \"B\"\n",
    "    elif int(score) >= 70:\n",
    "        return \"C\"\n",
    "    elif int(score) >= 60:\n",
    "        return \"D\"\n",
    "    else:\n",
    "        return \"F\"\n",
    "    \n",
    "def get_class_average(students):\n",
    "    results = []\n",
    "    for stud in students:\n",
    "        results.append(get_average(stud))\n",
    "    finResult = average(results)\n",
    "    return finResult\n",
    "\n",
    "print(f\"Class Average: {get_class_average(students):.2f}\")\n",
    "print(\"Class Grade:\",get_letter_grade(get_class_average(students)))"
   ]
  },
  {
   "cell_type": "code",
   "execution_count": 14,
   "metadata": {},
   "outputs": [
    {
     "name": "stdout",
     "output_type": "stream",
     "text": [
      "a is an invalid course number\n"
     ]
    }
   ],
   "source": [
    "courses = (\"COP 2510\", \"EGN 3000L\", \"MAC 2281\", \"MUH 3016\", \"PHY 2048\")\n",
    "\n",
    "courseName = {\n",
    "    \"COP 2510\": \"Programming Concepts\",\n",
    "    \"EGN 3000L\": \"Foundations of Engineering Lab\",\n",
    "    \"MAC 2281\": \"Calculus I\",\n",
    "    \"MUH 3016\": \"Survey of Jazz\",\n",
    "    \"PHY 2048\": \"General Physics I\"\n",
    "}\n",
    "\n",
    "instructor = {\n",
    "    \"COP 2510\": \"Z. Beasley\",\n",
    "    \"EGN 3000L\": \"J. Anderson\",\n",
    "    \"MAC 2281\": \"A. Makaryus\",\n",
    "    \"MUH 3016\": \"A. Wilkins\",\n",
    "    \"PHY 2048\": \"G. Pradhan\"\n",
    "}\n",
    "\n",
    "classTimes = {\n",
    "    \"COP 2510\": \"MW 12:30pm – 1:45pm\",\n",
    "    \"EGN 3000L\": \"TR 11:00am – 12:15pm\",\n",
    "    \"MAC 2281\": \"MW 9:30am – 10:45am\",\n",
    "    \"MUH 3016\": \"online asynchronous\",\n",
    "    \"PHY 2048\": \"TR 5:00pm – 6:15pm\"\n",
    "}\n",
    "\n",
    "crs = input(\"Enter course number: \")\n",
    "\n",
    "if crs in courses:\n",
    "    print(\"The course details are:\")\n",
    "    print(\"Course Name:\", courseName[crs])\n",
    "    print(\"Course Instructor:\", instructor[crs])\n",
    "    print(\"Course Times:\", classTimes[crs])\n",
    "else:\n",
    "    print(crs, \"is an invalid course number.\")"
   ]
  },
  {
   "cell_type": "code",
   "execution_count": 7,
   "metadata": {},
   "outputs": [
    {
     "name": "stdout",
     "output_type": "stream",
     "text": [
      "The total sale for this week is: $38590,00\n",
      "The maximum sale for this week is: $34636,00\n",
      "The minimum sale for this week is: $3,00\n"
     ]
    }
   ],
   "source": [
    "days = (\"Sunday\", \"Monday\", \"Tuesday\", \"Wednesday\", \"Thursday\", \"Friday\", \"Saturday\")\n",
    "\n",
    "sales = []\n",
    "\n",
    "for day in days:\n",
    "    while True:\n",
    "        inSales = int(input(f\"Enter the sales for {day}: $\"))\n",
    "        if inSales >= 0:\n",
    "            sales.append(inSales)\n",
    "            break\n",
    "        else:\n",
    "            print(f\"This input is invalid. Please try again: $\")\n",
    "\n",
    "sumSales = '{:,.2f}'.format(sum(sales)).replace(',', '').replace('.', ',')\n",
    "maxSales = '{:,.2f}'.format(max(sales)).replace(',', '').replace('.', ',')\n",
    "minSales = '{:,.2f}'.format(min(sales)).replace(',', '').replace('.', ',')\n",
    "\n",
    "print(f\"The total sale for this week is: ${sumSales}\")\n",
    "print(f\"The maximum sale for this week is: ${maxSales}\")\n",
    "print(f\"The minimum sale for this week is: ${minSales}\")"
   ]
  },
  {
   "cell_type": "code",
   "execution_count": 8,
   "metadata": {},
   "outputs": [
    {
     "name": "stdout",
     "output_type": "stream",
     "text": [
      "Morse Code: ....-. -..... .--.....--..-. .--.-... .-.-.--..-- -.....-. .--.....-- .--.-... -..... --.-..-....-..----...--..\n"
     ]
    }
   ],
   "source": [
    "morse_symbol = {\n",
    "    \" \": \" \", \",\": \"--..--\", \".\": \".-.-.-\", \"?\": \"..--..\"\n",
    "}\n",
    "\n",
    "morse_number = (\n",
    "    \"-----\", \".----\", \"..---\", \"...--\",\n",
    "    \"....-\", \".....\", \"-....\", \"--...\",\n",
    "    \"---..\", \"----.\"\n",
    ")\n",
    "\n",
    "morse_letter = (\n",
    "    \".-\", \"-...\", \"-.-.\", \"-..\", \".\",\n",
    "    \"..-.\", \"--.\", \"....\", \"..\", \".---\",\n",
    "    \"-.-\", \".-..\", \"--\", \"-.\", \"---\",\n",
    "    \".--.\", \"--.-\", \".-.\", \"...\", \"-\",\n",
    "    \"..-\", \"...-\", \".--\", \"-..-\", \"-.--\",\n",
    "    \"--..\"\n",
    ")\n",
    "\n",
    "result = []\n",
    "\n",
    "inStr = input(\"Enter string: \")\n",
    "inStr = inStr.upper()\n",
    "\n",
    "for char in inStr:\n",
    "    # ord(char) - ord(\"A\") and etc gets index of the char in the tuple\n",
    "    if \"A\" <= char <= \"Z\":\n",
    "        result.append(morse_letter[ord(char) - ord(\"A\")])\n",
    "    elif \"0\" <= char <= \"9\":\n",
    "        result.append(morse_letter[ord(char) - ord(\"0\")])\n",
    "    else:\n",
    "        result.append(morse_symbol.get(char, ''))\n",
    "\n",
    "print(\"Morse Code:\",\"\".join(result))"
   ]
  }
 ],
 "metadata": {
  "kernelspec": {
   "display_name": "Python 3",
   "language": "python",
   "name": "python3"
  },
  "language_info": {
   "codemirror_mode": {
    "name": "ipython",
    "version": 3
   },
   "file_extension": ".py",
   "mimetype": "text/x-python",
   "name": "python",
   "nbconvert_exporter": "python",
   "pygments_lexer": "ipython3",
   "version": "3.11.5"
  }
 },
 "nbformat": 4,
 "nbformat_minor": 2
}
